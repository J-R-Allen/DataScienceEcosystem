{
 "cells": [
  {
   "cell_type": "markdown",
   "id": "d934ec07-a4e2-4898-acd8-99151aca99f9",
   "metadata": {},
   "source": [
    "# Data Science Tools and Ecosystem"
   ]
  },
  {
   "cell_type": "markdown",
   "id": "6da695a4-8203-481a-a602-1cddaa4100e2",
   "metadata": {},
   "source": [
    "In this notebook, Data Science Tools and Ecosystem are summarised."
   ]
  },
  {
   "cell_type": "markdown",
   "id": "0d8bbdb6-3414-4872-a293-70c34775ad1e",
   "metadata": {},
   "source": [
    "**Objectives:**\n",
    "- List popular languages in data science\n",
    "- List common data science libraries\n",
    "- List popular data science tools\n",
    "- Complete basic algorithms\n",
    "- Convert 200 minutes into hours"
   ]
  },
  {
   "cell_type": "markdown",
   "id": "bee03d30-c116-423c-85e0-5e4bd7bbefec",
   "metadata": {},
   "source": [
    "Some of the popular languages that Data Scientists use are:\n",
    "1. Python\n",
    "2. R\n",
    "3. Java\n",
    "4. C\n",
    "5. Javascript\n",
    "6. C++\n",
    "7. Swift\n"
   ]
  },
  {
   "cell_type": "markdown",
   "id": "9f8e7b28-4432-4e26-b988-846f1713fe72",
   "metadata": {},
   "source": [
    "Some of the commonly used libraries used by Data Scientists include:\n",
    "1. Numpy\n",
    "2. Pandas\n",
    "3. Matplotlib\n",
    "4. Plotly\n",
    "5. Scikit-learn\n",
    "6. Pytorch\n",
    "7. Tensorflow"
   ]
  },
  {
   "cell_type": "markdown",
   "id": "6ce16d08-d090-468a-b8ae-7ee08f69b284",
   "metadata": {},
   "source": [
    "| Data Science Tools |\n",
    "| -------------------|\n",
    "| Anaconda |\n",
    "| AWS |\n",
    "| Keras |"
   ]
  },
  {
   "cell_type": "markdown",
   "id": "249c9348-f04e-40d0-85e3-402172c7f175",
   "metadata": {},
   "source": [
    "### Below are a few examples of evaluating arithmetic expressions in Python."
   ]
  },
  {
   "cell_type": "code",
   "execution_count": 33,
   "id": "6d20d09f-2e4a-4696-b225-c0ab5e991c9e",
   "metadata": {},
   "outputs": [
    {
     "data": {
      "text/plain": [
       "17"
      ]
     },
     "execution_count": 33,
     "metadata": {},
     "output_type": "execute_result"
    }
   ],
   "source": [
    "#This a simple arithmetic expression to mutiply then add integers.\n",
    "\n",
    "(3*4)+5"
   ]
  },
  {
   "cell_type": "code",
   "execution_count": 35,
   "id": "dae9039c-1814-4e51-a490-b992ca37ec14",
   "metadata": {},
   "outputs": [
    {
     "name": "stdout",
     "output_type": "stream",
     "text": [
      "3.3333333333333335\n"
     ]
    }
   ],
   "source": [
    "#This will convert 200 minutes to hours by dividing by 60.\n",
    "x = 200\n",
    "y = 60\n",
    "z = (x / y)\n",
    "print(z) \n",
    "\n",
    "\n"
   ]
  }
 ],
 "metadata": {
  "kernelspec": {
   "display_name": "Python 3 (ipykernel)",
   "language": "python",
   "name": "python3"
  },
  "language_info": {
   "codemirror_mode": {
    "name": "ipython",
    "version": 3
   },
   "file_extension": ".py",
   "mimetype": "text/x-python",
   "name": "python",
   "nbconvert_exporter": "python",
   "pygments_lexer": "ipython3",
   "version": "3.11.7"
  }
 },
 "nbformat": 4,
 "nbformat_minor": 5
}
